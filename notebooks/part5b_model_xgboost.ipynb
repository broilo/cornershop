{
 "cells": [
  {
   "cell_type": "markdown",
   "id": "30bbfbd8",
   "metadata": {},
   "source": [
    "# Cornershop's Data Science Test"
   ]
  },
  {
   "cell_type": "markdown",
   "id": "8279345d",
   "metadata": {},
   "source": [
    "## Dev: Mateus Broilo\n",
    "mateus.brilo90@gmail.com\n",
    "\n",
    "* Objectives: Fine-Tuning Training and evaluation"
   ]
  },
  {
   "cell_type": "markdown",
   "id": "e2b7aa40",
   "metadata": {},
   "source": [
    "# Summary\n",
    "\n",
    "* Initials\n",
    "    * Loading Libraries and Packages\n",
    "    * Configurations\n",
    "    * Global Variables\n",
    "* Loading data\n",
    "    * Prepared Dataset  \n",
    "* Splitting Train/Test data: 80/20\n",
    "* XGBoost\n",
    "    * Fine-Tuning\n",
    "        * Best Parameters\n",
    "        * Feature Importance\n",
    "* Results\n",
    "* Save model"
   ]
  },
  {
   "cell_type": "markdown",
   "id": "7ea12a3a",
   "metadata": {},
   "source": [
    "# Initials\n",
    "* Loading Libraries and Packages\n",
    "* Configuration\n",
    "* Global Variables"
   ]
  },
  {
   "cell_type": "markdown",
   "id": "307c9452",
   "metadata": {},
   "source": [
    "## Loading Libraries and Packages"
   ]
  },
  {
   "cell_type": "code",
   "execution_count": 2,
   "id": "e6300f27",
   "metadata": {
    "ExecuteTime": {
     "end_time": "2022-04-03T20:27:34.860468Z",
     "start_time": "2022-04-03T20:27:23.059995Z"
    }
   },
   "outputs": [
    {
     "name": "stderr",
     "output_type": "stream",
     "text": [
      "C:\\Users\\mbroilo\\Anaconda3\\envs\\broilo\\lib\\site-packages\\xgboost\\compat.py:36: FutureWarning: pandas.Int64Index is deprecated and will be removed from pandas in a future version. Use pandas.Index with the appropriate dtype instead.\n",
      "  from pandas import MultiIndex, Int64Index\n"
     ]
    }
   ],
   "source": [
    "# general\n",
    "import warnings\n",
    "import time\n",
    "import gc\n",
    "\n",
    "#data\n",
    "import pandas as pd\n",
    "import numpy as np\n",
    "from datetime import (datetime, date)\n",
    "import geopy.distance\n",
    "\n",
    "## visualization\n",
    "import matplotlib.pyplot as plt\n",
    "import seaborn as sns\n",
    "\n",
    "## model\n",
    "import joblib\n",
    "from scipy.stats import uniform, randint\n",
    "from sklearn.model_selection import train_test_split\n",
    "from sklearn import metrics \n",
    "from sklearn.metrics import *\n",
    "from sklearn.model_selection import RandomizedSearchCV\n",
    "import xgboost as xgb"
   ]
  },
  {
   "cell_type": "code",
   "execution_count": 3,
   "id": "e07221bf",
   "metadata": {
    "ExecuteTime": {
     "end_time": "2022-04-03T20:27:34.970653Z",
     "start_time": "2022-04-03T20:27:34.860468Z"
    }
   },
   "outputs": [
    {
     "name": "stdout",
     "output_type": "stream",
     "text": [
      " O volume na unidade C nÃ£o tem nome.\n",
      " O NÃºmero de SÃ©rie do Volume Ã© 1210-43E2\n",
      "\n",
      " Pasta de C:\\Users\\mbroilo\\Documents\\Arbeit\\Personal\\projects\\cornershop\\data\n",
      "\n",
      "01/04/2022  20:54    <DIR>          .\n",
      "31/03/2022  18:23    <DIR>          ..\n",
      "29/03/2022  20:02        64.304.021 20220329_merged_full.csv\n",
      "29/03/2022  20:02        12.563.082 20220329_merged_predict.csv\n",
      "29/03/2022  20:03        51.741.160 20220329_merged_train_test.csv\n",
      "01/04/2022  20:49         1.125.788 20220331_prep_20220329_merged_train_test.csv\n",
      "               4 arquivo(s)    129.734.051 bytes\n",
      "               2 pasta(s)   142.334.328.832 bytes disponÃ­veis\n"
     ]
    }
   ],
   "source": [
    "ls ..\\data\\"
   ]
  },
  {
   "cell_type": "markdown",
   "id": "999cc6c7",
   "metadata": {},
   "source": [
    "## Configurations"
   ]
  },
  {
   "cell_type": "code",
   "execution_count": 4,
   "id": "a7a08d2f",
   "metadata": {
    "ExecuteTime": {
     "end_time": "2022-04-03T20:27:35.001961Z",
     "start_time": "2022-04-03T20:27:34.970653Z"
    }
   },
   "outputs": [],
   "source": [
    "warnings.filterwarnings(\"ignore\")\n",
    "pd.set_option('display.max_columns', 100)\n",
    "pd.set_option('display.max_rows', 100)\n",
    "\n",
    "rc={'font.size': 14, 'axes.labelsize': 14, 'legend.fontsize': 12, \n",
    "    'axes.titlesize': 24, 'xtick.labelsize': 14, 'ytick.labelsize': 15}\n",
    "\n",
    "sns.set(rc=rc)\n",
    "sns.set_palette(\"Set2\")\n",
    "sns.set_style(\"darkgrid\")#sns.set_style(\"whitegrid\")"
   ]
  },
  {
   "cell_type": "markdown",
   "id": "897661d1",
   "metadata": {},
   "source": [
    "## Global Variables"
   ]
  },
  {
   "cell_type": "code",
   "execution_count": 5,
   "id": "4d2bc852",
   "metadata": {
    "ExecuteTime": {
     "end_time": "2022-04-03T20:27:35.017585Z",
     "start_time": "2022-04-03T20:27:35.001961Z"
    }
   },
   "outputs": [],
   "source": [
    "PATH_RAWDATA = \"../raw_data/\"\n",
    "PATH_DATA = \"../data/\"\n",
    "DATASET_PREP = \"20220331_prep_20220329_merged_train_test.csv\"\n",
    "MODEL = 'XGBRegressor.sav'\n",
    "DATE = time.strftime(\"%Y%m%d\")\n",
    "SEED = 42 # The answer to the ultimate question of life, the universe and everything is 42."
   ]
  },
  {
   "cell_type": "markdown",
   "id": "2e0da11b",
   "metadata": {},
   "source": [
    "# Loading Data\n",
    "* Prepared Dataset "
   ]
  },
  {
   "cell_type": "markdown",
   "id": "4be3162c",
   "metadata": {},
   "source": [
    "## Prepared Dataset "
   ]
  },
  {
   "cell_type": "code",
   "execution_count": 6,
   "id": "6e2a0ba9",
   "metadata": {
    "ExecuteTime": {
     "end_time": "2022-04-03T20:27:35.157508Z",
     "start_time": "2022-04-03T20:27:35.017585Z"
    }
   },
   "outputs": [
    {
     "name": "stdout",
     "output_type": "stream",
     "text": [
      "(8000, 16)\n"
     ]
    },
    {
     "data": {
      "text/html": [
       "<div>\n",
       "<style scoped>\n",
       "    .dataframe tbody tr th:only-of-type {\n",
       "        vertical-align: middle;\n",
       "    }\n",
       "\n",
       "    .dataframe tbody tr th {\n",
       "        vertical-align: top;\n",
       "    }\n",
       "\n",
       "    .dataframe thead th {\n",
       "        text-align: right;\n",
       "    }\n",
       "</style>\n",
       "<table border=\"1\" class=\"dataframe\">\n",
       "  <thead>\n",
       "    <tr style=\"text-align: right;\">\n",
       "      <th></th>\n",
       "      <th>on_demand</th>\n",
       "      <th>day_of_week</th>\n",
       "      <th>total_minutes</th>\n",
       "      <th>pure_time</th>\n",
       "      <th>found_rate</th>\n",
       "      <th>picking_speed</th>\n",
       "      <th>accepted_rate</th>\n",
       "      <th>rating</th>\n",
       "      <th>distance</th>\n",
       "      <th>no_item</th>\n",
       "      <th>quantity</th>\n",
       "      <th>item</th>\n",
       "      <th>seniority_41dc7c9e385c4d2b6c1f7836973951bf</th>\n",
       "      <th>seniority_50e13ee63f086c2fe84229348bc91b5b</th>\n",
       "      <th>seniority_6c90661e6d2c7579f5ce337c3391dbb9</th>\n",
       "      <th>seniority_bb29b8d0d196b5db5a5350e5e3ae2b1f</th>\n",
       "    </tr>\n",
       "    <tr>\n",
       "      <th>order_id</th>\n",
       "      <th></th>\n",
       "      <th></th>\n",
       "      <th></th>\n",
       "      <th></th>\n",
       "      <th></th>\n",
       "      <th></th>\n",
       "      <th></th>\n",
       "      <th></th>\n",
       "      <th></th>\n",
       "      <th></th>\n",
       "      <th></th>\n",
       "      <th></th>\n",
       "      <th></th>\n",
       "      <th></th>\n",
       "      <th></th>\n",
       "      <th></th>\n",
       "    </tr>\n",
       "  </thead>\n",
       "  <tbody>\n",
       "    <tr>\n",
       "      <th>0004a3841c1eeb6c6e77585a941c21e0</th>\n",
       "      <td>True</td>\n",
       "      <td>friday</td>\n",
       "      <td>39.001464</td>\n",
       "      <td>20.300000</td>\n",
       "      <td>0.8473</td>\n",
       "      <td>2.30</td>\n",
       "      <td>0.920000</td>\n",
       "      <td>4.88</td>\n",
       "      <td>0.579554</td>\n",
       "      <td>8.0</td>\n",
       "      <td>8.000</td>\n",
       "      <td>4</td>\n",
       "      <td>1</td>\n",
       "      <td>0</td>\n",
       "      <td>0</td>\n",
       "      <td>0</td>\n",
       "    </tr>\n",
       "    <tr>\n",
       "      <th>0005a6ecbbde1e8d273f5577bcff2c9c</th>\n",
       "      <td>True</td>\n",
       "      <td>friday</td>\n",
       "      <td>41.164442</td>\n",
       "      <td>20.666667</td>\n",
       "      <td>0.8407</td>\n",
       "      <td>1.57</td>\n",
       "      <td>0.840000</td>\n",
       "      <td>4.72</td>\n",
       "      <td>0.989345</td>\n",
       "      <td>2.0</td>\n",
       "      <td>2.000</td>\n",
       "      <td>1</td>\n",
       "      <td>0</td>\n",
       "      <td>1</td>\n",
       "      <td>0</td>\n",
       "      <td>0</td>\n",
       "    </tr>\n",
       "    <tr>\n",
       "      <th>0007baeb6700fc203be2d1f1e11222d7</th>\n",
       "      <td>False</td>\n",
       "      <td>saturday</td>\n",
       "      <td>136.453089</td>\n",
       "      <td>15.000000</td>\n",
       "      <td>0.9012</td>\n",
       "      <td>2.50</td>\n",
       "      <td>1.000000</td>\n",
       "      <td>4.92</td>\n",
       "      <td>3.735978</td>\n",
       "      <td>39.0</td>\n",
       "      <td>39.000</td>\n",
       "      <td>22</td>\n",
       "      <td>1</td>\n",
       "      <td>0</td>\n",
       "      <td>0</td>\n",
       "      <td>0</td>\n",
       "    </tr>\n",
       "    <tr>\n",
       "      <th>0012195a6a8ca9ec308a3010eeea8ebc</th>\n",
       "      <td>False</td>\n",
       "      <td>saturday</td>\n",
       "      <td>72.853598</td>\n",
       "      <td>18.000000</td>\n",
       "      <td>0.8781</td>\n",
       "      <td>1.27</td>\n",
       "      <td>0.920000</td>\n",
       "      <td>4.88</td>\n",
       "      <td>1.226007</td>\n",
       "      <td>13.0</td>\n",
       "      <td>13.000</td>\n",
       "      <td>11</td>\n",
       "      <td>0</td>\n",
       "      <td>0</td>\n",
       "      <td>1</td>\n",
       "      <td>0</td>\n",
       "    </tr>\n",
       "    <tr>\n",
       "      <th>0013011fa72b498b9feb84f4e7104980</th>\n",
       "      <td>False</td>\n",
       "      <td>saturday</td>\n",
       "      <td>143.040919</td>\n",
       "      <td>15.000000</td>\n",
       "      <td>0.8301</td>\n",
       "      <td>3.12</td>\n",
       "      <td>0.857143</td>\n",
       "      <td>5.00</td>\n",
       "      <td>1.905397</td>\n",
       "      <td>65.0</td>\n",
       "      <td>64.636</td>\n",
       "      <td>44</td>\n",
       "      <td>0</td>\n",
       "      <td>1</td>\n",
       "      <td>0</td>\n",
       "      <td>0</td>\n",
       "    </tr>\n",
       "  </tbody>\n",
       "</table>\n",
       "</div>"
      ],
      "text/plain": [
       "                                  on_demand day_of_week  total_minutes  \\\n",
       "order_id                                                                 \n",
       "0004a3841c1eeb6c6e77585a941c21e0       True      friday      39.001464   \n",
       "0005a6ecbbde1e8d273f5577bcff2c9c       True      friday      41.164442   \n",
       "0007baeb6700fc203be2d1f1e11222d7      False    saturday     136.453089   \n",
       "0012195a6a8ca9ec308a3010eeea8ebc      False    saturday      72.853598   \n",
       "0013011fa72b498b9feb84f4e7104980      False    saturday     143.040919   \n",
       "\n",
       "                                  pure_time  found_rate  picking_speed  \\\n",
       "order_id                                                                 \n",
       "0004a3841c1eeb6c6e77585a941c21e0  20.300000      0.8473           2.30   \n",
       "0005a6ecbbde1e8d273f5577bcff2c9c  20.666667      0.8407           1.57   \n",
       "0007baeb6700fc203be2d1f1e11222d7  15.000000      0.9012           2.50   \n",
       "0012195a6a8ca9ec308a3010eeea8ebc  18.000000      0.8781           1.27   \n",
       "0013011fa72b498b9feb84f4e7104980  15.000000      0.8301           3.12   \n",
       "\n",
       "                                  accepted_rate  rating  distance  no_item  \\\n",
       "order_id                                                                     \n",
       "0004a3841c1eeb6c6e77585a941c21e0       0.920000    4.88  0.579554      8.0   \n",
       "0005a6ecbbde1e8d273f5577bcff2c9c       0.840000    4.72  0.989345      2.0   \n",
       "0007baeb6700fc203be2d1f1e11222d7       1.000000    4.92  3.735978     39.0   \n",
       "0012195a6a8ca9ec308a3010eeea8ebc       0.920000    4.88  1.226007     13.0   \n",
       "0013011fa72b498b9feb84f4e7104980       0.857143    5.00  1.905397     65.0   \n",
       "\n",
       "                                  quantity  item  \\\n",
       "order_id                                           \n",
       "0004a3841c1eeb6c6e77585a941c21e0     8.000     4   \n",
       "0005a6ecbbde1e8d273f5577bcff2c9c     2.000     1   \n",
       "0007baeb6700fc203be2d1f1e11222d7    39.000    22   \n",
       "0012195a6a8ca9ec308a3010eeea8ebc    13.000    11   \n",
       "0013011fa72b498b9feb84f4e7104980    64.636    44   \n",
       "\n",
       "                                  seniority_41dc7c9e385c4d2b6c1f7836973951bf  \\\n",
       "order_id                                                                       \n",
       "0004a3841c1eeb6c6e77585a941c21e0                                           1   \n",
       "0005a6ecbbde1e8d273f5577bcff2c9c                                           0   \n",
       "0007baeb6700fc203be2d1f1e11222d7                                           1   \n",
       "0012195a6a8ca9ec308a3010eeea8ebc                                           0   \n",
       "0013011fa72b498b9feb84f4e7104980                                           0   \n",
       "\n",
       "                                  seniority_50e13ee63f086c2fe84229348bc91b5b  \\\n",
       "order_id                                                                       \n",
       "0004a3841c1eeb6c6e77585a941c21e0                                           0   \n",
       "0005a6ecbbde1e8d273f5577bcff2c9c                                           1   \n",
       "0007baeb6700fc203be2d1f1e11222d7                                           0   \n",
       "0012195a6a8ca9ec308a3010eeea8ebc                                           0   \n",
       "0013011fa72b498b9feb84f4e7104980                                           1   \n",
       "\n",
       "                                  seniority_6c90661e6d2c7579f5ce337c3391dbb9  \\\n",
       "order_id                                                                       \n",
       "0004a3841c1eeb6c6e77585a941c21e0                                           0   \n",
       "0005a6ecbbde1e8d273f5577bcff2c9c                                           0   \n",
       "0007baeb6700fc203be2d1f1e11222d7                                           0   \n",
       "0012195a6a8ca9ec308a3010eeea8ebc                                           1   \n",
       "0013011fa72b498b9feb84f4e7104980                                           0   \n",
       "\n",
       "                                  seniority_bb29b8d0d196b5db5a5350e5e3ae2b1f  \n",
       "order_id                                                                      \n",
       "0004a3841c1eeb6c6e77585a941c21e0                                           0  \n",
       "0005a6ecbbde1e8d273f5577bcff2c9c                                           0  \n",
       "0007baeb6700fc203be2d1f1e11222d7                                           0  \n",
       "0012195a6a8ca9ec308a3010eeea8ebc                                           0  \n",
       "0013011fa72b498b9feb84f4e7104980                                           0  "
      ]
     },
     "execution_count": 6,
     "metadata": {},
     "output_type": "execute_result"
    }
   ],
   "source": [
    "df = pd.read_csv(PATH_DATA + DATASET_PREP, sep=',', index_col='order_id')\n",
    "print(df.shape)\n",
    "df.head()"
   ]
  },
  {
   "cell_type": "markdown",
   "id": "885299af",
   "metadata": {},
   "source": [
    "# Splitting Train/Test data: 80/20"
   ]
  },
  {
   "cell_type": "code",
   "execution_count": 7,
   "id": "3e1fcdba",
   "metadata": {
    "ExecuteTime": {
     "end_time": "2022-04-03T20:27:35.189231Z",
     "start_time": "2022-04-03T20:27:35.157508Z"
    }
   },
   "outputs": [],
   "source": [
    "features = [\n",
    "    'seniority_41dc7c9e385c4d2b6c1f7836973951bf',\n",
    "    'seniority_50e13ee63f086c2fe84229348bc91b5b',\n",
    "    'seniority_6c90661e6d2c7579f5ce337c3391dbb9',\n",
    "    'seniority_bb29b8d0d196b5db5a5350e5e3ae2b1f',\n",
    "    'on_demand',\n",
    "    #day_of_week,\n",
    "    'pure_time',\n",
    "    'found_rate',\n",
    "    'picking_speed',\n",
    "    'accepted_rate',\n",
    "    'rating',\n",
    "    'distance',\n",
    "    'no_item',\n",
    "    'quantity',\n",
    "    'item'\n",
    "]\n",
    "\n",
    "features_set2 = list(df[features].drop(columns=[\n",
    "    'seniority_41dc7c9e385c4d2b6c1f7836973951bf',\n",
    "    'seniority_50e13ee63f086c2fe84229348bc91b5b',\n",
    "    'seniority_6c90661e6d2c7579f5ce337c3391dbb9',\n",
    "    'seniority_bb29b8d0d196b5db5a5350e5e3ae2b1f' \n",
    "]))\n",
    "features_set4 = features\n",
    "\n",
    "\n",
    "label = ['total_minutes']\n",
    "\n",
    "Xs2 = df[features_set2]\n",
    "Xs4 = df[features_set4]\n",
    "y = df[label]\n",
    "\n",
    "Xs2_train, Xs2_test, y_train, y_test = train_test_split(Xs2, y, train_size = 0.8, random_state = SEED)\n",
    "Xs4_train, Xs4_test, y_train, y_test = train_test_split(Xs4, y, train_size = 0.8, random_state = SEED)"
   ]
  },
  {
   "cell_type": "code",
   "execution_count": 8,
   "id": "96db340e",
   "metadata": {
    "ExecuteTime": {
     "end_time": "2022-04-03T20:27:35.204614Z",
     "start_time": "2022-04-03T20:27:35.189231Z"
    }
   },
   "outputs": [
    {
     "name": "stdout",
     "output_type": "stream",
     "text": [
      "Features Set2:\n",
      "Train dataset shape: (6400, 10)\n",
      "Test dataset shape: (1600, 10)\n",
      "----------------------------------------\n",
      "Xs2_train + Xs2_test dataset: 8000\n",
      "Total dataset: 8000\n",
      "\n",
      "\n",
      "Features Set4:\n",
      "Train dataset shape: (6400, 14)\n",
      "Test dataset shape: (1600, 14)\n",
      "----------------------------------------\n",
      "Xs4_train + Xs4_test dataset: 8000\n",
      "Total dataset: 8000\n"
     ]
    }
   ],
   "source": [
    "print(\"Features Set2:\")\n",
    "print(\"Train dataset shape: \" + f\"{Xs2_train.shape}\")\n",
    "print(\"Test dataset shape: \" + f\"{Xs2_test.shape}\")\n",
    "print(40*\"-\")\n",
    "print(f\"Xs2_train + Xs2_test dataset: {Xs2_train.shape[0] + Xs2_test.shape[0]}\")\n",
    "print(f\"Total dataset: {df.shape[0]}\\n\\n\")\n",
    "\n",
    "print(\"Features Set4:\")\n",
    "print(\"Train dataset shape: \" + f\"{Xs4_train.shape}\")\n",
    "print(\"Test dataset shape: \" + f\"{Xs4_test.shape}\")\n",
    "print(40*\"-\")\n",
    "print(f\"Xs4_train + Xs4_test dataset: {Xs4_train.shape[0] + Xs4_test.shape[0]}\")\n",
    "print(f\"Total dataset: {df.shape[0]}\")"
   ]
  },
  {
   "cell_type": "markdown",
   "id": "5aa04afe",
   "metadata": {},
   "source": [
    "# XGBoost\n",
    "* Set2: Fine-Tuning\n",
    "    * Best Parameters\n",
    "    * Feature Importance\n",
    "* Set4: Fine-Tuning\n",
    "    * Best Parameters\n",
    "    * Feature Importance"
   ]
  },
  {
   "cell_type": "code",
   "execution_count": 8,
   "id": "dc22119a",
   "metadata": {
    "ExecuteTime": {
     "end_time": "2022-04-03T15:09:44.422461Z",
     "start_time": "2022-04-03T15:09:44.406839Z"
    }
   },
   "outputs": [],
   "source": [
    "model = xgb.XGBRegressor()\n",
    "\n",
    "params = {\n",
    "    \"colsample_bytree\": uniform(0.7, 0.3), #default=1\n",
    "    \"gamma\": uniform(0, 0.5), #default=0\n",
    "    \"learning_rate\": uniform(0.03, 0.3), # default=0.3\n",
    "    \"max_depth\": randint(2, 6), # default=6\n",
    "    \"n_estimators\": randint(100, 150), # default=100\n",
    "    \"subsample\": uniform(0.6, 0.4), # default=1\n",
    "}\n",
    "\n",
    "search = RandomizedSearchCV(\n",
    "    model, \n",
    "    param_distributions=params, \n",
    "    random_state=SEED, \n",
    "    n_iter=200, \n",
    "    cv=3, \n",
    "    verbose=1, \n",
    "    n_jobs=1, \n",
    "    return_train_score=True\n",
    ")"
   ]
  },
  {
   "cell_type": "markdown",
   "id": "27166aff",
   "metadata": {},
   "source": [
    "## Set2:  Fine-tuning"
   ]
  },
  {
   "cell_type": "code",
   "execution_count": 9,
   "id": "286e5af0",
   "metadata": {
    "ExecuteTime": {
     "end_time": "2022-04-03T15:13:37.463829Z",
     "start_time": "2022-04-03T15:09:44.422461Z"
    }
   },
   "outputs": [
    {
     "name": "stdout",
     "output_type": "stream",
     "text": [
      "Fitting 3 folds for each of 200 candidates, totalling 600 fits\n",
      "{'colsample_bytree': 0.9398611392758547, 'gamma': 0.4125663383463986, 'learning_rate': 0.08592149603644322, 'max_depth': 4, 'n_estimators': 113, 'subsample': 0.8092261699076477}\n",
      "Wall time: 3min 53s\n"
     ]
    }
   ],
   "source": [
    "%%time\n",
    "\n",
    "search.fit(Xs2_train, y_train)\n",
    "print(search.best_params_)"
   ]
  },
  {
   "cell_type": "markdown",
   "id": "608362c8",
   "metadata": {},
   "source": [
    "### Best Parameters"
   ]
  },
  {
   "cell_type": "code",
   "execution_count": 10,
   "id": "0c529b95",
   "metadata": {
    "ExecuteTime": {
     "end_time": "2022-04-03T15:13:37.479695Z",
     "start_time": "2022-04-03T15:13:37.469434Z"
    }
   },
   "outputs": [],
   "source": [
    "best_params = search.best_params_\n",
    "colsample_bytree = best_params[\"colsample_bytree\"]\n",
    "gamma = best_params[\"gamma\"]\n",
    "learning_rate = best_params[\"learning_rate\"]\n",
    "max_depth = best_params[\"max_depth\"]\n",
    "n_estimators = best_params[\"n_estimators\"]\n",
    "subsample = best_params[\"subsample\"]"
   ]
  },
  {
   "cell_type": "code",
   "execution_count": 11,
   "id": "65dc67d5",
   "metadata": {
    "ExecuteTime": {
     "end_time": "2022-04-03T15:13:37.998190Z",
     "start_time": "2022-04-03T15:13:37.483479Z"
    }
   },
   "outputs": [
    {
     "name": "stdout",
     "output_type": "stream",
     "text": [
      "XGBRegressor(base_score=None, booster=None, colsample_bylevel=None,\n",
      "             colsample_bynode=None, colsample_bytree=0.9398611392758547,\n",
      "             enable_categorical=False, gamma=0.4125663383463986, gpu_id=None,\n",
      "             importance_type=None, interaction_constraints=None,\n",
      "             learning_rate=0.08592149603644322, max_delta_step=None,\n",
      "             max_depth=4, min_child_weight=None, missing=nan,\n",
      "             monotone_constraints=None, n_estimators=113, n_jobs=None,\n",
      "             num_parallel_tree=None, predictor=None, random_state=None,\n",
      "             reg_alpha=None, reg_lambda=None, scale_pos_weight=None,\n",
      "             subsample=0.8092261699076477, tree_method=None,\n",
      "             validate_parameters=None, verbosity=0)\n"
     ]
    }
   ],
   "source": [
    "xgbrs2 = xgb.XGBRegressor(\n",
    "    verbosity=0, \n",
    "    objective='reg:squarederror', \n",
    "    colsample_bytree=colsample_bytree, \n",
    "    gamma=gamma,\n",
    "    learning_rate=learning_rate, \n",
    "    max_depth=max_depth, \n",
    "    n_estimators=n_estimators, \n",
    "    subsample=subsample\n",
    ")\n",
    "                        \n",
    "print(xgbrs2)\n",
    "\n",
    "xgbrs2.fit(Xs2_train, y_train)\n",
    "y_pred_dXGBs2 = xgbrs2.predict(Xs2_test)"
   ]
  },
  {
   "cell_type": "markdown",
   "id": "2ab07819",
   "metadata": {},
   "source": [
    "### Feature Importance"
   ]
  },
  {
   "cell_type": "code",
   "execution_count": 12,
   "id": "84ae47b5",
   "metadata": {
    "ExecuteTime": {
     "end_time": "2022-04-03T15:13:38.047275Z",
     "start_time": "2022-04-03T15:13:37.998802Z"
    }
   },
   "outputs": [
    {
     "name": "stdout",
     "output_type": "stream",
     "text": [
      "on_demand: 0.15455212\n",
      "pure_time: 0.043282732\n",
      "found_rate: 0.03498815\n",
      "picking_speed: 0.093062975\n",
      "accepted_rate: 0.027083972\n",
      "rating: 0.025991498\n",
      "distance: 0.038884304\n",
      "no_item: 0.084241785\n",
      "quantity: 0.049101837\n",
      "item: 0.44881064\n"
     ]
    }
   ],
   "source": [
    "for i in range(df[features_set2].columns.shape[0]):\n",
    "    print(df[features_set2].columns[i] + \": \" + str(xgbrs2.feature_importances_[i]))"
   ]
  },
  {
   "cell_type": "code",
   "execution_count": 33,
   "id": "ddca59ab",
   "metadata": {
    "ExecuteTime": {
     "end_time": "2022-04-03T15:33:48.444322Z",
     "start_time": "2022-04-03T15:33:48.208593Z"
    }
   },
   "outputs": [
    {
     "data": {
      "text/plain": [
       "<BarContainer object of 10 artists>"
      ]
     },
     "execution_count": 33,
     "metadata": {},
     "output_type": "execute_result"
    },
    {
     "data": {
      "image/png": "[encoded data removed]",
      "text/plain": [
       "<Figure size 1080x720 with 1 Axes>"
      ]
     },
     "metadata": {},
     "output_type": "display_data"
    }
   ],
   "source": [
    "fig = plt.figure(figsize=(15,10))\n",
    "plt.barh(Xs2_train.columns, xgbrs2.feature_importances_)"
   ]
  },
  {
   "cell_type": "markdown",
   "id": "ae2cdd65",
   "metadata": {},
   "source": [
    "### Results"
   ]
  },
  {
   "cell_type": "code",
   "execution_count": 25,
   "id": "3ddc98f8",
   "metadata": {
    "ExecuteTime": {
     "end_time": "2022-04-03T15:31:45.571477Z",
     "start_time": "2022-04-03T15:31:45.541620Z"
    }
   },
   "outputs": [
    {
     "name": "stdout",
     "output_type": "stream",
     "text": [
      "MSE: 640.309939662616\n",
      "RMSE: 25.304346260328796\n",
      "R2: 0.5122415602439478\n",
      "adjusted-R2: 0.5114781255284118\n",
      "test deviance: 156.40997617187728\n"
     ]
    }
   ],
   "source": [
    "print(f\"MSE: {mean_squared_error(y_test, y_pred_dXGBs2)}\")\n",
    "rmseXGBs2 = np.sqrt(mean_squared_error(y_test, y_pred_dXGBs2))\n",
    "print(f\"RMSE: {rmseXGBs2}\")\n",
    "r2XGBs2 = r2_score(y_test, y_pred_dXGBs2)\n",
    "print(f\"R2: {r2XGBs2}\")\n",
    "ar2XGBs2 = 1 - (1-r2XGBs2)*(len(y_train)-1)/(len(y_train)-Xs2_train.shape[1]-1)\n",
    "print(f\"adjusted-R2: {ar2XGBs2}\")\n",
    "y_true = y_test.total_minutes.values.tolist()\n",
    "desviance_XGBs2 = (2 * np.sum((y_true - y_pred_dXGBs2) / y_pred_dXGBs2 - np.log(y_true) + np.log(y_pred_dXGBs2)))\n",
    "print(f\"test deviance: {desviance_XGBs2}\")"
   ]
  },
  {
   "cell_type": "markdown",
   "id": "a2278ea8",
   "metadata": {},
   "source": [
    "## Set4:  Fine-tuning"
   ]
  },
  {
   "cell_type": "code",
   "execution_count": 15,
   "id": "ed1d2909",
   "metadata": {
    "ExecuteTime": {
     "end_time": "2022-04-03T15:17:56.382774Z",
     "start_time": "2022-04-03T15:13:38.387981Z"
    }
   },
   "outputs": [
    {
     "name": "stdout",
     "output_type": "stream",
     "text": [
      "Fitting 3 folds for each of 200 candidates, totalling 600 fits\n",
      "{'colsample_bytree': 0.9953206542110655, 'gamma': 0.2628450911513429, 'learning_rate': 0.08150378575449105, 'max_depth': 4, 'n_estimators': 136, 'subsample': 0.6073562706189867}\n",
      "Wall time: 4min 17s\n"
     ]
    }
   ],
   "source": [
    "%%time\n",
    "\n",
    "search.fit(Xs4_train, y_train)\n",
    "print(search.best_params_)"
   ]
  },
  {
   "cell_type": "markdown",
   "id": "b2c69c4a",
   "metadata": {},
   "source": [
    "### Best Parameters"
   ]
  },
  {
   "cell_type": "code",
   "execution_count": 16,
   "id": "0930bea9",
   "metadata": {
    "ExecuteTime": {
     "end_time": "2022-04-03T15:17:56.397755Z",
     "start_time": "2022-04-03T15:17:56.383352Z"
    }
   },
   "outputs": [],
   "source": [
    "best_params = search.best_params_\n",
    "colsample_bytree = best_params[\"colsample_bytree\"]\n",
    "gamma = best_params[\"gamma\"]\n",
    "learning_rate = best_params[\"learning_rate\"]\n",
    "max_depth = best_params[\"max_depth\"]\n",
    "n_estimators = best_params[\"n_estimators\"]\n",
    "subsample = best_params[\"subsample\"]"
   ]
  },
  {
   "cell_type": "code",
   "execution_count": 17,
   "id": "3db2b729",
   "metadata": {
    "ExecuteTime": {
     "end_time": "2022-04-03T15:17:57.014866Z",
     "start_time": "2022-04-03T15:17:56.401298Z"
    }
   },
   "outputs": [
    {
     "name": "stdout",
     "output_type": "stream",
     "text": [
      "XGBRegressor(base_score=None, booster=None, colsample_bylevel=None,\n",
      "             colsample_bynode=None, colsample_bytree=0.9953206542110655,\n",
      "             enable_categorical=False, gamma=0.2628450911513429, gpu_id=None,\n",
      "             importance_type=None, interaction_constraints=None,\n",
      "             learning_rate=0.08150378575449105, max_delta_step=None,\n",
      "             max_depth=4, min_child_weight=None, missing=nan,\n",
      "             monotone_constraints=None, n_estimators=136, n_jobs=None,\n",
      "             num_parallel_tree=None, predictor=None, random_state=None,\n",
      "             reg_alpha=None, reg_lambda=None, scale_pos_weight=None,\n",
      "             subsample=0.6073562706189867, tree_method=None,\n",
      "             validate_parameters=None, verbosity=0)\n"
     ]
    }
   ],
   "source": [
    "xgbrs4 = xgb.XGBRegressor(\n",
    "    verbosity=0, \n",
    "    objective='reg:squarederror', \n",
    "    colsample_bytree=colsample_bytree, \n",
    "    gamma=gamma,\n",
    "    learning_rate=learning_rate, \n",
    "    max_depth=max_depth, \n",
    "    n_estimators=n_estimators, \n",
    "    subsample=subsample\n",
    ")\n",
    "                        \n",
    "print(xgbrs4)\n",
    "\n",
    "xgbrs4.fit(Xs4_train, y_train)\n",
    "y_pred_dXGBs4 = xgbrs4.predict(Xs4_test)"
   ]
  },
  {
   "cell_type": "markdown",
   "id": "80f5c1b0",
   "metadata": {},
   "source": [
    "### Feature Importance"
   ]
  },
  {
   "cell_type": "code",
   "execution_count": 18,
   "id": "d3f05dea",
   "metadata": {
    "ExecuteTime": {
     "end_time": "2022-04-03T15:17:57.066251Z",
     "start_time": "2022-04-03T15:17:57.016782Z"
    }
   },
   "outputs": [
    {
     "name": "stdout",
     "output_type": "stream",
     "text": [
      "seniority_41dc7c9e385c4d2b6c1f7836973951bf: 0.025047138\n",
      "seniority_50e13ee63f086c2fe84229348bc91b5b: 0.011059753\n",
      "seniority_6c90661e6d2c7579f5ce337c3391dbb9: 0.04135066\n",
      "seniority_bb29b8d0d196b5db5a5350e5e3ae2b1f: 0.026446765\n",
      "on_demand: 0.11491153\n",
      "pure_time: 0.042998277\n",
      "found_rate: 0.0334063\n",
      "picking_speed: 0.085420616\n",
      "accepted_rate: 0.025331687\n",
      "rating: 0.029229632\n",
      "distance: 0.037773117\n",
      "no_item: 0.06522751\n",
      "quantity: 0.037985284\n",
      "item: 0.42381176\n"
     ]
    }
   ],
   "source": [
    "for i in range(df[features_set4].columns.shape[0]):\n",
    "    print(df[features_set4].columns[i] + \": \" + str(xgbrs4.feature_importances_[i]))"
   ]
  },
  {
   "cell_type": "code",
   "execution_count": 32,
   "id": "aa471187",
   "metadata": {
    "ExecuteTime": {
     "end_time": "2022-04-03T15:33:37.473107Z",
     "start_time": "2022-04-03T15:33:37.206306Z"
    }
   },
   "outputs": [
    {
     "data": {
      "text/plain": [
       "<BarContainer object of 14 artists>"
      ]
     },
     "execution_count": 32,
     "metadata": {},
     "output_type": "execute_result"
    },
    {
     "data": {
      "image/png": "[encoded data removed]",
      "text/plain": [
       "<Figure size 1080x720 with 1 Axes>"
      ]
     },
     "metadata": {},
     "output_type": "display_data"
    }
   ],
   "source": [
    "fig = plt.figure(figsize=(15,10))\n",
    "plt.barh(Xs4_train.columns, xgbrs4.feature_importances_)"
   ]
  },
  {
   "cell_type": "markdown",
   "id": "9d3189ac",
   "metadata": {},
   "source": [
    "### Results"
   ]
  },
  {
   "cell_type": "code",
   "execution_count": 26,
   "id": "fd1aa3c5",
   "metadata": {
    "ExecuteTime": {
     "end_time": "2022-04-03T15:31:49.725937Z",
     "start_time": "2022-04-03T15:31:49.700920Z"
    }
   },
   "outputs": [
    {
     "name": "stdout",
     "output_type": "stream",
     "text": [
      "MSE: 639.9420825419369\n",
      "RMSE: 25.297076561174748\n",
      "R2: 0.5125217767518004\n",
      "adjusted-R2: 0.5114529129890009\n",
      "test deviance: 155.78936142809266\n"
     ]
    }
   ],
   "source": [
    "print(f\"MSE: {mean_squared_error(y_test, y_pred_dXGBs4)}\")\n",
    "rmseXGBs4 = np.sqrt(mean_squared_error(y_test, y_pred_dXGBs4))\n",
    "print(f\"RMSE: {rmseXGBs4}\")\n",
    "r2XGBs4 = r2_score(y_test, y_pred_dXGBs4)\n",
    "print(f\"R2: {r2XGBs4}\")\n",
    "ar2XGBs4 = 1 - (1-r2XGBs4)*(len(y_train)-1)/(len(y_train)-Xs4_train.shape[1]-1)\n",
    "print(f\"adjusted-R2: {ar2XGBs4}\")\n",
    "y_true = y_test.total_minutes.values.tolist()\n",
    "desviance_XGBs4 = (2 * np.sum((y_true - y_pred_dXGBs4) / y_pred_dXGBs4 - np.log(y_true) + np.log(y_pred_dXGBs4)))\n",
    "print(f\"test deviance: {desviance_XGBs4}\")"
   ]
  },
  {
   "cell_type": "markdown",
   "id": "a82ec62a",
   "metadata": {},
   "source": [
    "# Overall Results"
   ]
  },
  {
   "cell_type": "code",
   "execution_count": 28,
   "id": "d757b7dc",
   "metadata": {
    "ExecuteTime": {
     "end_time": "2022-04-03T15:32:26.936116Z",
     "start_time": "2022-04-03T15:32:26.905237Z"
    }
   },
   "outputs": [
    {
     "data": {
      "text/html": [
       "<div>\n",
       "<style scoped>\n",
       "    .dataframe tbody tr th:only-of-type {\n",
       "        vertical-align: middle;\n",
       "    }\n",
       "\n",
       "    .dataframe tbody tr th {\n",
       "        vertical-align: top;\n",
       "    }\n",
       "\n",
       "    .dataframe thead th {\n",
       "        text-align: right;\n",
       "    }\n",
       "</style>\n",
       "<table border=\"1\" class=\"dataframe\">\n",
       "  <thead>\n",
       "    <tr style=\"text-align: right;\">\n",
       "      <th></th>\n",
       "      <th></th>\n",
       "      <th>Fit Quality (R2)</th>\n",
       "      <th>Adjust-R2</th>\n",
       "      <th>Loss Function (RMSE)</th>\n",
       "      <th>Test Desviance</th>\n",
       "    </tr>\n",
       "    <tr>\n",
       "      <th>Features</th>\n",
       "      <th>Model</th>\n",
       "      <th></th>\n",
       "      <th></th>\n",
       "      <th></th>\n",
       "      <th></th>\n",
       "    </tr>\n",
       "  </thead>\n",
       "  <tbody>\n",
       "    <tr>\n",
       "      <th>Set2</th>\n",
       "      <th>XGBRegressor</th>\n",
       "      <td>0.512242</td>\n",
       "      <td>0.511478</td>\n",
       "      <td>25.304346</td>\n",
       "      <td>156.409976</td>\n",
       "    </tr>\n",
       "    <tr>\n",
       "      <th>Set4</th>\n",
       "      <th>XGBRegressor</th>\n",
       "      <td>0.512522</td>\n",
       "      <td>0.511453</td>\n",
       "      <td>25.297077</td>\n",
       "      <td>155.789361</td>\n",
       "    </tr>\n",
       "  </tbody>\n",
       "</table>\n",
       "</div>"
      ],
      "text/plain": [
       "                       Fit Quality (R2)  Adjust-R2  Loss Function (RMSE)  \\\n",
       "Features Model                                                             \n",
       "Set2     XGBRegressor          0.512242   0.511478             25.304346   \n",
       "Set4     XGBRegressor          0.512522   0.511453             25.297077   \n",
       "\n",
       "                       Test Desviance  \n",
       "Features Model                         \n",
       "Set2     XGBRegressor      156.409976  \n",
       "Set4     XGBRegressor      155.789361  "
      ]
     },
     "execution_count": 28,
     "metadata": {},
     "output_type": "execute_result"
    }
   ],
   "source": [
    "result = pd.DataFrame(data={\n",
    "    'Features':['Set2','Set4'],\n",
    "    \"Model\":['XGBRegressor', 'XGBRegressor'],\n",
    "    \"Fit Quality (R2)\":[r2XGBs2, r2XGBs4],\n",
    "    \"Adjust-R2\":[ar2XGBs2, ar2XGBs4],\n",
    "    \"Loss Function (RMSE)\":[rmseXGBs2, rmseXGBs4],\n",
    "    \"Test Desviance\":[desviance_XGBs2, desviance_XGBs4]\n",
    "})\n",
    "\n",
    "result.set_index(['Features', 'Model'])"
   ]
  },
  {
   "cell_type": "markdown",
   "id": "9c308bfd",
   "metadata": {},
   "source": [
    "# Save Model"
   ]
  },
  {
   "cell_type": "code",
   "execution_count": 34,
   "id": "3b9e6af3",
   "metadata": {
    "ExecuteTime": {
     "end_time": "2022-04-03T15:34:37.688629Z",
     "start_time": "2022-04-03T15:34:37.651863Z"
    }
   },
   "outputs": [
    {
     "data": {
      "text/plain": [
       "['20220403_set4_XGBRegressor.sav']"
      ]
     },
     "execution_count": 34,
     "metadata": {},
     "output_type": "execute_result"
    }
   ],
   "source": [
    "joblib.dump(xgbrs4, DATE + '_set4_' + MODEL) "
   ]
  },
  {
   "cell_type": "code",
   "execution_count": null,
   "id": "b9f9882e",
   "metadata": {},
   "outputs": [],
   "source": []
  }
 ],
 "metadata": {
  "hide_input": false,
  "kernelspec": {
   "display_name": "Python [conda env:broilo]",
   "language": "python",
   "name": "conda-env-broilo-py"
  },
  "language_info": {
   "codemirror_mode": {
    "name": "ipython",
    "version": 3
   },
   "file_extension": ".py",
   "mimetype": "text/x-python",
   "name": "python",
   "nbconvert_exporter": "python",
   "pygments_lexer": "ipython3",
   "version": "3.10.0"
  },
  "latex_envs": {
   "LaTeX_envs_menu_present": true,
   "autoclose": false,
   "autocomplete": true,
   "bibliofile": "biblio.bib",
   "cite_by": "apalike",
   "current_citInitial": 1,
   "eqLabelWithNumbers": true,
   "eqNumInitial": 1,
   "hotkeys": {
    "equation": "Ctrl-E",
    "itemize": "Ctrl-I"
   },
   "labels_anchors": false,
   "latex_user_defs": false,
   "report_style_numbering": false,
   "user_envs_cfg": false
  },
  "varInspector": {
   "cols": {
    "lenName": 16,
    "lenType": 16,
    "lenVar": 40
   },
   "kernels_config": {
    "python": {
     "delete_cmd_postfix": "",
     "delete_cmd_prefix": "del ",
     "library": "var_list.py",
     "varRefreshCmd": "print(var_dic_list())"
    },
    "r": {
     "delete_cmd_postfix": ") ",
     "delete_cmd_prefix": "rm(",
     "library": "var_list.r",
     "varRefreshCmd": "cat(var_dic_list()) "
    }
   },
   "types_to_exclude": [
    "module",
    "function",
    "builtin_function_or_method",
    "instance",
    "_Feature"
   ],
   "window_display": false
  }
 },
 "nbformat": 4,
 "nbformat_minor": 5
}
